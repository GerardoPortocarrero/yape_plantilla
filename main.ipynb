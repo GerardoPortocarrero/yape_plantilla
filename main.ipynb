{
 "cells": [
  {
   "cell_type": "code",
   "execution_count": null,
   "id": "d8306d67",
   "metadata": {},
   "outputs": [],
   "source": [
    "from pathlib import Path\n",
    "import importlib\n",
    "import win32com.client\n",
    "import warnings\n",
    "import time\n",
    "import os\n",
    "from datetime import datetime\n",
    "from openpyxl.styles import PatternFill\n",
    "warnings.filterwarnings(\"ignore\")  # Oculta todos los warnings\n",
    "\n",
    "# Mis modulos\n",
    "import download_mail_files as dmf\n",
    "import file_management as fm\n",
    "import join_dataframes as jdf\n",
    "import load_data as load\n",
    "import send_email as sm\n",
    "import print_management as pm\n",
    "import log_management as log"
   ]
  },
  {
   "cell_type": "code",
   "execution_count": 157,
   "id": "b67ccd7d",
   "metadata": {},
   "outputs": [
    {
     "name": "stdout",
     "output_type": "stream",
     "text": [
      "\n",
      " ____  _             _   _ _ _        __   __               \n",
      "|  _ \\| | __ _ _ __ | |_(_) | | __ _  \\ \\ / /_ _ _ __   ___ \n",
      "| |_) | |/ _` | '_ \\| __| | | |/ _` |  \\ V / _` | '_ \\ / _ \\\n",
      "|  __/| | (_| | | | | |_| | | | (_| |   | | (_| | |_) |  __/\n",
      "|_|   |_|\\__,_|_| |_|\\__|_|_|_|\\__,_|   |_|\\__,_| .__/ \\___|\n",
      "                                                |_|         \n",
      "        💥 AUTOMATIZADOR ENVIO DE YAPE PLANTILLA 💥\n",
      "\n",
      "\n"
     ]
    }
   ],
   "source": [
    "# import pyfiglet\n",
    "# print(pyfiglet.figlet_format(\"Plantilla Yape\"))\n",
    "\n",
    "banner = r\"\"\"\n",
    " ____  _             _   _ _ _        __   __               \n",
    "|  _ \\| | __ _ _ __ | |_(_) | | __ _  \\ \\ / /_ _ _ __   ___ \n",
    "| |_) | |/ _` | '_ \\| __| | | |/ _` |  \\ V / _` | '_ \\ / _ \\\n",
    "|  __/| | (_| | | | | |_| | | | (_| |   | | (_| | |_) |  __/\n",
    "|_|   |_|\\__,_|_| |_|\\__|_|_|_|\\__,_|   |_|\\__,_| .__/ \\___|\n",
    "                                                |_|         \n",
    "        💥 AUTOMATIZADOR ENVIO DE YAPE PLANTILLA 💥\n",
    "\"\"\"\n",
    "\n",
    "print(banner, end='\\n\\n')\n",
    "time.sleep(1)"
   ]
  },
  {
   "cell_type": "code",
   "execution_count": null,
   "id": "4af9ddef",
   "metadata": {},
   "outputs": [],
   "source": [
    "# Configuracion\n",
    "\n",
    "# Diccionarios\n",
    "COLORS = { # Colores rellena celdas\n",
    "    \"CAM-\": PatternFill(start_color=\"FFD966\", end_color=\"FFD966\", fill_type=\"solid\"),\n",
    "    \"PED-\": PatternFill(start_color=\"99FF66\", end_color=\"99FF66\", fill_type=\"solid\"),\n",
    "    \"CHA-\": PatternFill(start_color=\"CCFFFF\", end_color=\"CCFFFF\", fill_type=\"solid\"),\n",
    "    \"ATI-\": PatternFill(start_color=\"FFFF00\", end_color=\"FFFF00\", fill_type=\"solid\"),\n",
    "}\n",
    "outlook_folder_codes = {\n",
    "    0: 'Calendario',\n",
    "    1: 'Contactos',\n",
    "    2: 'Borradores',\n",
    "    3: 'Diario / Jornal',\n",
    "    4: 'Notas',\n",
    "    5: 'Tareas',\n",
    "    6: 'Bandeja de entrada',\n",
    "    7: 'Bandeja de salida',\n",
    "    8: 'Elementos enviados',\n",
    "    9: 'Elementos eliminados',\n",
    "    10: 'Bandeja de correo del servidor',\n",
    "    11: 'Conflictos',\n",
    "    12: 'Elementos de sincronizacion local',\n",
    "    13: 'Elementos de sincronizacion (Envio)',\n",
    "    14: 'Elementos de sincronización (Recibo)',\n",
    "    15: 'Elementos de sincronización completa',\n",
    "    16: 'Diario de formularios',\n",
    "    17: 'Carpeta de búsqueda',\n",
    "    18: 'Bandeja para reglas cliente',\n",
    "    19: 'Carpeta de sugerencias de correo',\n",
    "}\n",
    "outlook_object_types = {\n",
    "    \"AppointmentItem\": 26,\n",
    "    \"MailItem\": 43,\n",
    "    \"TaskItem\": 46,\n",
    "    \"ContactItem\": 48,\n",
    "    \"MeetingItem\": 53,\n",
    "}\n",
    "MONTHS = {\n",
    "    1: 'Enero', 2: 'Febrero', 3: 'Marzo', 4: 'Abril', 5: 'Mayo', 6: 'Junio',\n",
    "    7: 'Julio', 8: 'Agosto', 9: 'Septiembre', 10: 'Octubre', \n",
    "    11: 'Noviembre', 12: 'Diciembre'\n",
    "}\n",
    "CAMANA = {\n",
    "    \"name\": \"CAM-\",\n",
    "    \"sender_email\": \"frans.castillo@aclogistica.pe\",  # Nombre del asunto de correo\n",
    "    \"file_name\": \"\",                                  # Nombre del archivo local\n",
    "    \"file_address\": \"\",                               # Direccion del archivo local\n",
    "    \"mail_received_time\": \"\",                         # Fecha del correo recibida\n",
    "    \"sheet_name\": \"Pedmap\",\n",
    "    \"relevant_columns\": [\n",
    "        \"CDTRA\",\n",
    "        \"CHOFER\",        \n",
    "        \"CDCLI\",\n",
    "        \"NORSO\",\n",
    "    ]\n",
    "}\n",
    "PEDREGAL = {\n",
    "    \"name\": \"PED-\",\n",
    "    \"sender_email\": \"wilson.contreras@aclogistica.pe\",  # Nombre del asunto de correo\n",
    "    \"file_name\": \"\",                                    # Nombre del archivo local\n",
    "    \"file_address\": \"\",                                 # Direccion del archivo local\n",
    "    \"mail_received_time\": \"\",                           # Fecha del correo recibida\n",
    "    \"sheet_name\": \"Pedmap\",\n",
    "    \"relevant_columns\": [\n",
    "        \"CDTRA\",\n",
    "        \"CHOFER\",        \n",
    "        \"CDCLI\",\n",
    "        \"NORSO\",\n",
    "    ]\n",
    "}\n",
    "CHALA = {\n",
    "    \"name\": \"CHA-\",\n",
    "    \"sender_email\": \"paolo.velasquez@aclogistica.pe\",  # Nombre del asunto de correo\n",
    "    \"file_name\": \"\",                                   # Nombre del archivo local\n",
    "    \"file_address\": \"\",                                # Direccion del archivo local\n",
    "    \"mail_received_time\": \"\",                          # Fecha del correo recibida\n",
    "    \"sheet_name\": \"Pedmap\",\n",
    "    \"relevant_columns\": [\n",
    "        \"CDTRA\",\n",
    "        \"CHOFER\",        \n",
    "        \"CDCLI\",\n",
    "        \"NORSO\",\n",
    "    ]\n",
    "}\n",
    "ATICO = {\n",
    "    \"name\": \"ATI-\",\n",
    "    \"sender_email\": \"admatico@ayacda.com\",             # Nombre del asunto de correo\n",
    "    \"file_name\": \"\",                                   # Nombre del archivo local\n",
    "    \"file_address\": \"\",                                # Direccion del archivo local\n",
    "    \"mail_received_time\": \"\",                          # Fecha del correo recibida\n",
    "    \"sheet_name\": \"CARGA\",\n",
    "    \"relevant_columns\": [\n",
    "        \"CDTRA\",\n",
    "        \"Transportista 1\",\n",
    "        \"CDCLI\",\n",
    "        \"CLIENTE\",\n",
    "    ]\n",
    "}\n",
    "LOCACIONES = [CAMANA, PEDREGAL, CHALA, ATICO]\n",
    "INVALID_CDTRA = [\"8995\", \"8996\", \"8997\", \"\", \" \", \"0\", \"N/A\", \"ND\", None]\n",
    "\n",
    "# Variables\n",
    "MAPI = \"MAPI\" # Messaging Application Programming Interface\n",
    "DOT = \".\"\n",
    "OUTLOOK = \"Outlook\"\n",
    "APPLICATION = \"Application\"\n",
    "TODAY = datetime.today().strftime('%d-%m-%Y')\n",
    "PROJECT_ADDRESS = r\"C:\\Users\\AYACDA23\\Desktop\\PROG. YAPE\\yape_plantilla\"\n",
    "FILE_TEMPLATE = os.path.join(PROJECT_ADDRESS, 'staticfiles/plantilla.xlsx')\n",
    "PROCESSED_FILE = os.path.join(PROJECT_ADDRESS, f'Carga Plantilla AYA {TODAY}.xlsx')\n",
    "SUBJECT = f'Carga Plantilla AYA {TODAY} // A Y A DISTRIBUCIONES EIRL'\n",
    "BODY_MAIL = f'Estimados,\\nAdjunto planificación de yape 25-06-2025.\\nSaludos,'\n",
    "FIRM = os.path.join(PROJECT_ADDRESS, 'staticfiles/firma.jpg')\n",
    "MAIL_TO = \"hugo.lino@prosegur.com;\"\n",
    "MAIL_CC = \"juan.callan@prosegur.com;jorge.barboza@prosegur.com;marlon.solorzano@prosegur.com;contabilidad@ayacda.com;ADM@ayacda.com;asisconta@ayacda.com\"\n",
    "TEST_MAIL_TO = \"ainformacion@ayacda.com;\"\n",
    "TEST_MAIL_CC = \";\""
   ]
  },
  {
   "cell_type": "markdown",
   "id": "f13d8571",
   "metadata": {},
   "source": [
    "### Obtener correos de outlook\n",
    "\n",
    "Descargar archivos de correo"
   ]
  },
  {
   "cell_type": "code",
   "execution_count": null,
   "id": "a5a707d8",
   "metadata": {},
   "outputs": [],
   "source": [
    "importlib.reload(dmf)\n",
    "importlib.reload(log)\n",
    "\n",
    "mail_files = dmf.main(\n",
    "    PROJECT_ADDRESS,\n",
    "    LOCACIONES,\n",
    "    OUTLOOK,\n",
    "    DOT,\n",
    "    APPLICATION,\n",
    "    MAPI,\n",
    "    outlook_object_types['MailItem']\n",
    ")\n",
    "\n",
    "log.delete_log(PROJECT_ADDRESS)"
   ]
  },
  {
   "cell_type": "markdown",
   "id": "dfbfa86b",
   "metadata": {},
   "source": [
    "Asignar configuraciones restantes"
   ]
  },
  {
   "cell_type": "code",
   "execution_count": null,
   "id": "995f648b",
   "metadata": {},
   "outputs": [],
   "source": [
    "importlib.reload(pm)\n",
    "\n",
    "def set_configurations(locacion):\n",
    "    for clave, valores in mail_files.items():\n",
    "        if locacion['name'] == clave:\n",
    "            locacion['file_name'] = valores[0]\n",
    "            locacion['file_address'] = valores[1]\n",
    "            locacion['mail_received_time'] = valores[2]\n",
    "        \n",
    "    return locacion\n",
    "\n",
    "CAMANA = set_configurations(CAMANA)\n",
    "PEDREGAL = set_configurations(PEDREGAL)\n",
    "CHALA = set_configurations(CHALA)\n",
    "ATICO = set_configurations(ATICO)\n",
    "\n",
    "for locacion in LOCACIONES:\n",
    "    pm.show_document(locacion)"
   ]
  },
  {
   "cell_type": "markdown",
   "id": "ce8878b9",
   "metadata": {},
   "source": [
    "### Gestion y transformacion de datos"
   ]
  },
  {
   "cell_type": "code",
   "execution_count": null,
   "id": "3455dcd0",
   "metadata": {},
   "outputs": [
    {
     "name": "stdout",
     "output_type": "stream",
     "text": [
      "<class 'pandas.core.frame.DataFrame'>\n",
      "Index: 1115 entries, 0 to 1465\n",
      "Data columns (total 5 columns):\n",
      " #   Column  Non-Null Count  Dtype \n",
      "---  ------  --------------  ----- \n",
      " 0   0       1115 non-null   object\n",
      " 1   1       1115 non-null   object\n",
      " 2   2       1114 non-null   object\n",
      " 3   3       1115 non-null   object\n",
      " 4   4       1115 non-null   object\n",
      "dtypes: object(5)\n",
      "memory usage: 52.3+ KB\n",
      "None\n"
     ]
    }
   ],
   "source": [
    "importlib.reload(fm)\n",
    "importlib.reload(jdf)\n",
    "importlib.reload(pm)\n",
    "\n",
    "df_cam, df_ped, df_cha, df_ati = fm.main(CAMANA, PEDREGAL, CHALA, ATICO) # Obtener la data con las columnas filtradas\n",
    "log.write_log(PROJECT_ADDRESS, '[*] Dataframes generados')\n",
    "df_total = jdf.main(PROJECT_ADDRESS, CAMANA, PEDREGAL, CHALA, ATICO, df_cam, df_ped, df_cha, df_ati, INVALID_CDTRA) # Juntar los dataframes\n",
    "pm.show_df(df_total)"
   ]
  },
  {
   "cell_type": "code",
   "execution_count": null,
   "id": "cd2273f1",
   "metadata": {},
   "outputs": [],
   "source": [
    "importlib.reload(load)\n",
    "importlib.reload(log)\n",
    "\n",
    "load.main(FILE_TEMPLATE, df_total, PROCESSED_FILE, COLORS)\n",
    "log.write_log(PROJECT_ADDRESS, '[*] Dataframe total cargado en excel')"
   ]
  },
  {
   "cell_type": "markdown",
   "id": "ea17da52",
   "metadata": {},
   "source": [
    "### Envio de Correo"
   ]
  },
  {
   "cell_type": "code",
   "execution_count": null,
   "id": "91d1afc1",
   "metadata": {},
   "outputs": [
    {
     "name": "stdout",
     "output_type": "stream",
     "text": [
      "\n",
      "============================================================\n",
      "📄 Reporte generado\n",
      "------------------------------------------------------------\n",
      "📝 Reporte : C:\\Users\\AYACDA23\\Desktop\\PROG. YAPE\\yape_plantilla\\Carga Plantilla AYA 25-06-2025.xlsx\n",
      "✉️ Asunto  : Carga Plantilla AYA 25-06-2025 // A Y A DISTRIBUCIONES EIRL\n",
      "✅ Enviado exitosamente.\n",
      "============================================================\n",
      "\n"
     ]
    }
   ],
   "source": [
    "importlib.reload(sm)\n",
    "\n",
    "log.read_log(PROJECT_ADDRESS, \"log.txt\")\n",
    "\n",
    "# 🔁 Bucle de confirmación\n",
    "while True:\n",
    "    print(\"\\nSelecciona opcion de correo:\")\n",
    "    print(\"  [1] Correos Oficiales\")\n",
    "    print(\"  [2] Correo de Prueba\")\n",
    "    print(\"  [3] Terminar Proceso\")\n",
    "\n",
    "    mail_option = int(input(\"\\n>> Opción (1 - 3): \"))\n",
    "    if mail_option == 1:\n",
    "        sm.main(OUTLOOK, DOT, APPLICATION, MAIL_TO, MAIL_CC, PROCESSED_FILE, SUBJECT, FIRM)\n",
    "    elif mail_option == 2:\n",
    "        sm.main(OUTLOOK, DOT, APPLICATION, TEST_MAIL_TO, TEST_MAIL_CC, PROCESSED_FILE, SUBJECT, FIRM)\n",
    "    else:\n",
    "        print(\"\\n[✓] Proceso finalizado.\\n\")\n",
    "        break  # salir del bucle"
   ]
  },
  {
   "cell_type": "markdown",
   "id": "145ea092",
   "metadata": {},
   "source": [
    "### Limpiar Carpeta"
   ]
  },
  {
   "cell_type": "code",
   "execution_count": null,
   "id": "e7dbd894",
   "metadata": {},
   "outputs": [],
   "source": [
    "carpeta = Path(PROJECT_ADDRESS)\n",
    "#print(list(carpeta.glob('*.png')))\n",
    "\n",
    "# Eliminar archivos .png\n",
    "for file in carpeta.glob('*.xlsx'):\n",
    "    file.unlink()  # .unlink() elimina el archivo    "
   ]
  },
  {
   "cell_type": "markdown",
   "id": "4aaefa5f",
   "metadata": {},
   "source": [
    "### Export it as .py"
   ]
  },
  {
   "cell_type": "code",
   "execution_count": 173,
   "id": "4638d6ad",
   "metadata": {},
   "outputs": [
    {
     "name": "stdout",
     "output_type": "stream",
     "text": [
      "✅ Archivo .py creado sin la última celda.\n"
     ]
    }
   ],
   "source": [
    "import nbformat\n",
    "from nbconvert import PythonExporter\n",
    "\n",
    "# Cargar el notebook\n",
    "notebook_path = \"main.ipynb\"\n",
    "with open(notebook_path, \"r\", encoding=\"utf-8\") as f:\n",
    "    nb = nbformat.read(f, as_version=4)\n",
    "\n",
    "# Eliminar la última celda\n",
    "nb['cells'] = nb['cells'][:-1]\n",
    "\n",
    "# Convertir a script .py\n",
    "exporter = PythonExporter()\n",
    "codigo_python, _ = exporter.from_notebook_node(nb)\n",
    "\n",
    "# Guardar el archivo .py\n",
    "with open(\"main.py\", \"w\", encoding=\"utf-8\") as f:\n",
    "    f.write(codigo_python)\n",
    "\n",
    "print(\"✅ Archivo .py creado sin la última celda.\")"
   ]
  }
 ],
 "metadata": {
  "kernelspec": {
   "display_name": "Python 3",
   "language": "python",
   "name": "python3"
  },
  "language_info": {
   "codemirror_mode": {
    "name": "ipython",
    "version": 3
   },
   "file_extension": ".py",
   "mimetype": "text/x-python",
   "name": "python",
   "nbconvert_exporter": "python",
   "pygments_lexer": "ipython3",
   "version": "3.13.3"
  }
 },
 "nbformat": 4,
 "nbformat_minor": 5
}
